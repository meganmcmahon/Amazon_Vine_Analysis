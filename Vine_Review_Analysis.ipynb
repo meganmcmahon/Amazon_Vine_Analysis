{
  "nbformat": 4,
  "nbformat_minor": 0,
  "metadata": {
    "colab": {
      "name": "Vine_Review_Analysis",
      "provenance": [],
      "collapsed_sections": []
    },
    "kernelspec": {
      "name": "python3",
      "display_name": "Python 3"
    },
    "language_info": {
      "name": "python"
    }
  },
  "cells": [
    {
      "cell_type": "code",
      "execution_count": 3,
      "metadata": {
        "colab": {
          "base_uri": "https://localhost:8080/"
        },
        "id": "gzU9Dere3uVM",
        "outputId": "2902d455-f729-4c4d-ed24-4a56cc75939f"
      },
      "outputs": [
        {
          "output_type": "stream",
          "name": "stdout",
          "text": [
            "\r0% [Working]\r            \rGet:1 https://cloud.r-project.org/bin/linux/ubuntu bionic-cran40/ InRelease [3,626 B]\n",
            "\r0% [Connecting to archive.ubuntu.com (185.125.190.39)] [Connecting to security.\r0% [Connecting to archive.ubuntu.com (185.125.190.39)] [Connecting to security.\r0% [1 InRelease gpgv 3,626 B] [Connecting to archive.ubuntu.com (185.125.190.39\r                                                                               \rGet:2 http://ppa.launchpad.net/c2d4u.team/c2d4u4.0+/ubuntu bionic InRelease [15.9 kB]\n",
            "\r0% [1 InRelease gpgv 3,626 B] [Waiting for headers] [Waiting for headers] [Wait\r                                                                               \rGet:3 http://security.ubuntu.com/ubuntu bionic-security InRelease [88.7 kB]\n",
            "\r0% [1 InRelease gpgv 3,626 B] [Waiting for headers] [3 InRelease 14.2 kB/88.7 k\r                                                                               \rHit:4 http://archive.ubuntu.com/ubuntu bionic InRelease\n",
            "Get:5 http://archive.ubuntu.com/ubuntu bionic-updates InRelease [88.7 kB]\n",
            "Ign:6 https://developer.download.nvidia.com/compute/machine-learning/repos/ubuntu1804/x86_64  InRelease\n",
            "Hit:7 http://ppa.launchpad.net/cran/libgit2/ubuntu bionic InRelease\n",
            "Get:8 https://developer.download.nvidia.com/compute/cuda/repos/ubuntu1804/x86_64  InRelease [1,581 B]\n",
            "Hit:9 https://developer.download.nvidia.com/compute/machine-learning/repos/ubuntu1804/x86_64  Release\n",
            "Get:10 http://archive.ubuntu.com/ubuntu bionic-backports InRelease [74.6 kB]\n",
            "Hit:11 http://ppa.launchpad.net/deadsnakes/ppa/ubuntu bionic InRelease\n",
            "Hit:12 http://ppa.launchpad.net/graphics-drivers/ppa/ubuntu bionic InRelease\n",
            "Get:13 http://ppa.launchpad.net/c2d4u.team/c2d4u4.0+/ubuntu bionic/main Sources [2,095 kB]\n",
            "Get:14 http://security.ubuntu.com/ubuntu bionic-security/main amd64 Packages [2,937 kB]\n",
            "Get:15 https://developer.download.nvidia.com/compute/cuda/repos/ubuntu1804/x86_64  Packages [910 kB]\n",
            "Get:16 http://security.ubuntu.com/ubuntu bionic-security/universe amd64 Packages [1,533 kB]\n",
            "Get:17 http://ppa.launchpad.net/c2d4u.team/c2d4u4.0+/ubuntu bionic/main amd64 Packages [1,073 kB]\n",
            "Get:19 http://archive.ubuntu.com/ubuntu bionic-updates/universe amd64 Packages [2,311 kB]\n",
            "Get:20 http://archive.ubuntu.com/ubuntu bionic-updates/main amd64 Packages [3,369 kB]\n",
            "Fetched 14.5 MB in 4s (4,036 kB/s)\n",
            "Reading package lists... Done\n"
          ]
        }
      ],
      "source": [
        "import os\n",
        "# Find the latest version of spark 3.0  from http://www.apache.org/dist/spark/ and enter as the spark version\n",
        "# For example:\n",
        "# spark_version = 'spark-3.0.3'\n",
        "spark_version = 'spark-3.3.0'\n",
        "os.environ['SPARK_VERSION']=spark_version\n",
        "\n",
        "# Install Spark and Java\n",
        "!apt-get update\n",
        "!apt-get install openjdk-11-jdk-headless -qq > /dev/null\n",
        "!wget -q http://www.apache.org/dist/spark/$SPARK_VERSION/$SPARK_VERSION-bin-hadoop3.tgz\n",
        "!tar xf $SPARK_VERSION-bin-hadoop3.tgz\n",
        "!pip install -q findspark\n",
        "\n",
        "# Set Environment Variables\n",
        "os.environ[\"JAVA_HOME\"] = \"/usr/lib/jvm/java-11-openjdk-amd64\"\n",
        "os.environ[\"SPARK_HOME\"] = f\"/content/{spark_version}-bin-hadoop3\"\n",
        "\n",
        "# Start a SparkSession\n",
        "import findspark\n",
        "findspark.init()"
      ]
    },
    {
      "cell_type": "code",
      "source": [
        "from pyspark.sql import SparkSession\n",
        "spark = SparkSession.builder.appName(\"CloudETL\").config(\"spark.driver.extraClassPath\",\"/content/postgresql-42.2.16.jar\").getOrCreate()"
      ],
      "metadata": {
        "id": "0aBZrR2X39UU"
      },
      "execution_count": 4,
      "outputs": []
    },
    {
      "cell_type": "code",
      "source": [
        "from pyspark import SparkFiles\n",
        "url = \"https://s3.amazonaws.com/amazon-reviews-pds/tsv/amazon_reviews_us_Pet_Products_v1_00.tsv.gz\"\n",
        "spark.sparkContext.addFile(url)\n",
        "df = spark.read.option(\"encoding\", \"UTF-8\").csv(SparkFiles.get(\"amazon_reviews_us_Pet_Products_v1_00.tsv.gz\"), sep=\"\\t\", header=True, inferSchema=True)\n",
        "df.show()"
      ],
      "metadata": {
        "colab": {
          "base_uri": "https://localhost:8080/"
        },
        "id": "blIg-NJk39Zi",
        "outputId": "49417340-12b1-41a5-c7ee-e7b211bf4c58"
      },
      "execution_count": 5,
      "outputs": [
        {
          "output_type": "stream",
          "name": "stdout",
          "text": [
            "+-----------+-----------+--------------+----------+--------------+--------------------+----------------+-----------+-------------+-----------+----+-----------------+--------------------+--------------------+-------------------+\n",
            "|marketplace|customer_id|     review_id|product_id|product_parent|       product_title|product_category|star_rating|helpful_votes|total_votes|vine|verified_purchase|     review_headline|         review_body|        review_date|\n",
            "+-----------+-----------+--------------+----------+--------------+--------------------+----------------+-----------+-------------+-----------+----+-----------------+--------------------+--------------------+-------------------+\n",
            "|         US|   28794885| REAKC26P07MDN|B00Q0K9604|     510387886|(8-Pack) EZwhelp ...|    Pet Products|          5|            0|          0|   N|                Y|A great purchase ...|Best belly bands ...|2015-08-31 00:00:00|\n",
            "|         US|   11488901|R3NU7OMZ4HQIEG|B00MBW5O9W|     912374672|Warren Eckstein's...|    Pet Products|          2|            0|          1|   N|                Y|My dogs love Hugs...|My dogs love Hugs...|2015-08-31 00:00:00|\n",
            "|         US|   43214993|R14QJW3XF8QO1P|B0084OHUIO|     902215727|Tyson's True Chew...|    Pet Products|          5|            0|          0|   N|                Y|I have been purch...|I have been purch...|2015-08-31 00:00:00|\n",
            "|         US|   12835065|R2HB7AX0394ZGY|B001GS71K2|     568880110|Soft Side Pet Cra...|    Pet Products|          5|            0|          0|   N|                Y|it is easy to ope...|It is extremely w...|2015-08-31 00:00:00|\n",
            "|         US|   26334022| RGKMPDQGSAHR3|B004ABH1LG|     692846826|EliteField 3-Door...|    Pet Products|          5|            0|          0|   N|                Y|           Dog crate|Worked really wel...|2015-08-31 00:00:00|\n",
            "|         US|   22283621|R1DJCVPQGCV66E|B00AX0LFM4|     590674141|Carlson 68-Inch W...|    Pet Products|          5|            0|          0|   N|                Y|          Five Stars|I love my gates! ...|2015-08-31 00:00:00|\n",
            "|         US|   14469895|R3V52EAWLPBFQG|B00DQFZGZ0|     688538603|Dog Seat Cover Wi...|    Pet Products|          3|            0|          0|   N|                Y|Seat belt tugs on...|Didn't quite work...|2015-08-31 00:00:00|\n",
            "|         US|   50896354|R3DKO8J1J28QBI|B00DIRF9US|     742358789|The Bird Catcher ...|    Pet Products|          2|            0|          0|   N|                Y|Great Pole, but S...|I had the origina...|2015-08-31 00:00:00|\n",
            "|         US|   18440567| R764DBXGRNECG|B00JRCBFUG|     869798483|Cat Bed - Purrfec...|    Pet Products|          5|            1|          1|   N|                N|     My cat loves it|The pad is very s...|2015-08-31 00:00:00|\n",
            "|         US|   50502362| RW1853GAT0Z9F|B000L3XYZ4|     501118658|PetSafe Drinkwell...|    Pet Products|          5|            0|          0|   N|                Y|          Five Stars|My cat drinks mor...|2015-08-31 00:00:00|\n",
            "|         US|   33930128|R33GITXNUF1AD4|B00BOEXWFG|     454737777|Contech ZenDog Ca...|    Pet Products|          2|            0|          0|   N|                Y|Also had to pull ...|Much smaller than...|2015-08-31 00:00:00|\n",
            "|         US|   43534290|R1H7AVM81TAYRV|B001HBBQKY|     420905252|Wellness Crunchy ...|    Pet Products|          1|            2|          2|   N|                Y|DO NOT PURCHASE -...|I used to love th...|2015-08-31 00:00:00|\n",
            "|         US|   45555864|R2ZOYAQZNNZZWV|B007O1FHB0|     302588963|Rx Vitamins Essen...|    Pet Products|          5|            0|          0|   N|                Y|          Five Stars|Recommended by my...|2015-08-31 00:00:00|\n",
            "|         US|   11147406|R2FN1H3CGW6J8H|B001P3NU30|     525778264|Virbac C.E.T. Enz...|    Pet Products|          1|            0|          0|   N|                Y|Received wrong pr...|Yes I  ordered fo...|2015-08-31 00:00:00|\n",
            "|         US|    6495678| RJB41Q575XNG4|B00ZP6HS6S|     414117299|Kitty Shack - 2 i...|    Pet Products|          5|            0|          3|   N|                Y|          Five Stars|      It falls apart|2015-08-31 00:00:00|\n",
            "|         US|    2019416|R28W8BM1587CPF|B00IP05CUA|     833937853|Wellness Kittles ...|    Pet Products|          5|            0|          0|   N|                Y|kitty is ravenous...|My cat really lov...|2015-08-31 00:00:00|\n",
            "|         US|   40459386|R1II0M01NIG293|B001U8Y598|      85343577|OmniPet Anti-Ant ...|    Pet Products|          2|            0|          0|   N|                N|Maybe other speci...|This bowl is not ...|2015-08-31 00:00:00|\n",
            "|         US|   23126800| RMB8N0DBRH34O|B011AY4JWO|     499241195|K9KONNECTION [New...|    Pet Products|          5|            1|          1|   N|                Y|This works, dog n...|I have a small do...|2015-08-31 00:00:00|\n",
            "|         US|   30238476|R24WB6A6WVIPU6|B00DDSHE5A|     409532388|SUNSEED COMPANY 3...|    Pet Products|          5|            0|          0|   N|                Y|    Yummy for Bunny!|Bunny loves it! E...|2015-08-31 00:00:00|\n",
            "|         US|   35113999| ROCJSH0P9YSRW|B00PJW5OR8|     259271919|CXB1983(TM)Cute P...|    Pet Products|          5|            0|          0|   N|                Y|excellent price, ...|Petfect,,quality ...|2015-08-31 00:00:00|\n",
            "+-----------+-----------+--------------+----------+--------------+--------------------+----------------+-----------+-------------+-----------+----+-----------------+--------------------+--------------------+-------------------+\n",
            "only showing top 20 rows\n",
            "\n"
          ]
        }
      ]
    },
    {
      "cell_type": "code",
      "source": [
        "# Create the vine_table. DataFrame\n",
        "vine_df = df.select([\"review_id\", \"star_rating\", \"helpful_votes\", \"total_votes\", \"vine\", \"verified_purchase\"])"
      ],
      "metadata": {
        "id": "VcX13Avp4KMB"
      },
      "execution_count": 6,
      "outputs": []
    },
    {
      "cell_type": "code",
      "source": [
        "vine_df.show()"
      ],
      "metadata": {
        "colab": {
          "base_uri": "https://localhost:8080/"
        },
        "id": "VnKUYGoE4KTD",
        "outputId": "5990a777-acdd-4cf2-cb93-e1087ee0d201"
      },
      "execution_count": 7,
      "outputs": [
        {
          "output_type": "stream",
          "name": "stdout",
          "text": [
            "+--------------+-----------+-------------+-----------+----+-----------------+\n",
            "|     review_id|star_rating|helpful_votes|total_votes|vine|verified_purchase|\n",
            "+--------------+-----------+-------------+-----------+----+-----------------+\n",
            "| REAKC26P07MDN|          5|            0|          0|   N|                Y|\n",
            "|R3NU7OMZ4HQIEG|          2|            0|          1|   N|                Y|\n",
            "|R14QJW3XF8QO1P|          5|            0|          0|   N|                Y|\n",
            "|R2HB7AX0394ZGY|          5|            0|          0|   N|                Y|\n",
            "| RGKMPDQGSAHR3|          5|            0|          0|   N|                Y|\n",
            "|R1DJCVPQGCV66E|          5|            0|          0|   N|                Y|\n",
            "|R3V52EAWLPBFQG|          3|            0|          0|   N|                Y|\n",
            "|R3DKO8J1J28QBI|          2|            0|          0|   N|                Y|\n",
            "| R764DBXGRNECG|          5|            1|          1|   N|                N|\n",
            "| RW1853GAT0Z9F|          5|            0|          0|   N|                Y|\n",
            "|R33GITXNUF1AD4|          2|            0|          0|   N|                Y|\n",
            "|R1H7AVM81TAYRV|          1|            2|          2|   N|                Y|\n",
            "|R2ZOYAQZNNZZWV|          5|            0|          0|   N|                Y|\n",
            "|R2FN1H3CGW6J8H|          1|            0|          0|   N|                Y|\n",
            "| RJB41Q575XNG4|          5|            0|          3|   N|                Y|\n",
            "|R28W8BM1587CPF|          5|            0|          0|   N|                Y|\n",
            "|R1II0M01NIG293|          2|            0|          0|   N|                N|\n",
            "| RMB8N0DBRH34O|          5|            1|          1|   N|                Y|\n",
            "|R24WB6A6WVIPU6|          5|            0|          0|   N|                Y|\n",
            "| ROCJSH0P9YSRW|          5|            0|          0|   N|                Y|\n",
            "+--------------+-----------+-------------+-----------+----+-----------------+\n",
            "only showing top 20 rows\n",
            "\n"
          ]
        }
      ]
    },
    {
      "cell_type": "code",
      "source": [
        "# Filter by price on certain columns\n",
        "votes_over_20_df = vine_df.filter(\"total_votes>20\")\n",
        "votes_over_20_df.show(5)"
      ],
      "metadata": {
        "colab": {
          "base_uri": "https://localhost:8080/"
        },
        "id": "wAzYX_n8-1wG",
        "outputId": "827dead3-fb15-41d5-8228-02e9819b7a35"
      },
      "execution_count": 8,
      "outputs": [
        {
          "output_type": "stream",
          "name": "stdout",
          "text": [
            "+--------------+-----------+-------------+-----------+----+-----------------+\n",
            "|     review_id|star_rating|helpful_votes|total_votes|vine|verified_purchase|\n",
            "+--------------+-----------+-------------+-----------+----+-----------------+\n",
            "|R21KC552Y6HL8X|          1|           27|         31|   N|                Y|\n",
            "| RX9WC9FTIR1XR|          5|           25|         25|   N|                Y|\n",
            "| RGDCOU1KBHMNG|          3|           29|         31|   N|                Y|\n",
            "| RVTYWID2TPMMY|          2|           35|         42|   N|                Y|\n",
            "|R2CMPZ5VESGRLY|          4|           27|         28|   N|                Y|\n",
            "+--------------+-----------+-------------+-----------+----+-----------------+\n",
            "only showing top 5 rows\n",
            "\n"
          ]
        }
      ]
    },
    {
      "cell_type": "code",
      "source": [
        "# create a new DataFrame or table to retrieve all the rows where the number of helpful_votes divided by total_votes is equal to or greater than 50%.\n",
        "helpful_votes_df = votes_over_20_df.withColumn(\"vote_usefulness\", votes_over_20_df[\"helpful_votes\"]/votes_over_20_df[\"total_votes\"])\n",
        "\n",
        "helpful_votes_df = helpful_votes_df.filter(\"vote_usefulness>=0.5\")\n",
        "helpful_votes_df.show()\n"
      ],
      "metadata": {
        "colab": {
          "base_uri": "https://localhost:8080/"
        },
        "id": "OONZ8p04Pw6J",
        "outputId": "c6a8cb24-2d64-45a4-d433-55d3136b4d42"
      },
      "execution_count": 11,
      "outputs": [
        {
          "output_type": "stream",
          "name": "stdout",
          "text": [
            "+--------------+-----------+-------------+-----------+----+-----------------+------------------+\n",
            "|     review_id|star_rating|helpful_votes|total_votes|vine|verified_purchase|   vote_usefulness|\n",
            "+--------------+-----------+-------------+-----------+----+-----------------+------------------+\n",
            "|R21KC552Y6HL8X|          1|           27|         31|   N|                Y|0.8709677419354839|\n",
            "| RX9WC9FTIR1XR|          5|           25|         25|   N|                Y|               1.0|\n",
            "| RGDCOU1KBHMNG|          3|           29|         31|   N|                Y|0.9354838709677419|\n",
            "| RVTYWID2TPMMY|          2|           35|         42|   N|                Y|0.8333333333333334|\n",
            "|R2CMPZ5VESGRLY|          4|           27|         28|   N|                Y|0.9642857142857143|\n",
            "|R3VQPJZ54B55BA|          5|           62|         64|   N|                N|           0.96875|\n",
            "|R24QM6D7FEDZ5M|          2|           36|         43|   N|                Y|0.8372093023255814|\n",
            "|  R39GSNW76GYF|          1|           20|         23|   N|                Y|0.8695652173913043|\n",
            "| RPJLR6MFDPXXE|          5|           35|         36|   N|                Y|0.9722222222222222|\n",
            "|R34X0ZGVB3YGYO|          5|           47|         47|   N|                Y|               1.0|\n",
            "|R2C9O1BOV14Q0Z|          1|           62|         79|   N|                Y|0.7848101265822784|\n",
            "| RM6ZH5J3XDNHK|          5|           79|         87|   N|                Y|0.9080459770114943|\n",
            "|R2E363K75EMW4K|          5|           66|         69|   N|                Y|0.9565217391304348|\n",
            "|R2VJII8VKSJHDF|          1|           24|         29|   N|                N|0.8275862068965517|\n",
            "|R2U35Y2P27M13E|          1|           43|         45|   N|                Y|0.9555555555555556|\n",
            "| RLMZOQL11VHBX|          5|           23|         24|   N|                Y|0.9583333333333334|\n",
            "|R3C6CQQRRA8SYP|          5|           52|         58|   N|                Y| 0.896551724137931|\n",
            "|R3T7YOX0AEDZL3|          1|           45|         47|   N|                N|0.9574468085106383|\n",
            "|R176V3AYS3R4HG|          5|           26|         27|   N|                N|0.9629629629629629|\n",
            "|R1E5UU8JBUSHU2|          5|           29|         29|   N|                Y|               1.0|\n",
            "+--------------+-----------+-------------+-----------+----+-----------------+------------------+\n",
            "only showing top 20 rows\n",
            "\n"
          ]
        }
      ]
    },
    {
      "cell_type": "code",
      "source": [
        "from pyspark.sql.functions import col\n",
        "\n",
        "vine_paid = helpful_votes_df.filter(col(\"vine\") == \"Y\")\n",
        "vine_paid.show()"
      ],
      "metadata": {
        "colab": {
          "base_uri": "https://localhost:8080/"
        },
        "id": "5Nfhiv08xWeU",
        "outputId": "ce723d7f-76b1-4136-8221-30757f56c124"
      },
      "execution_count": 13,
      "outputs": [
        {
          "output_type": "stream",
          "name": "stdout",
          "text": [
            "+--------------+-----------+-------------+-----------+----+-----------------+------------------+\n",
            "|     review_id|star_rating|helpful_votes|total_votes|vine|verified_purchase|   vote_usefulness|\n",
            "+--------------+-----------+-------------+-----------+----+-----------------+------------------+\n",
            "|R3A71VR1JZD8WF|          2|           27|         30|   Y|                N|               0.9|\n",
            "|R16OMUJIGI18JZ|          5|           72|         72|   Y|                N|               1.0|\n",
            "|R3TS8ZP2FHQ9XR|          5|           39|         42|   Y|                N|0.9285714285714286|\n",
            "|R2MHP919VZN7DI|          5|           29|         30|   Y|                N|0.9666666666666667|\n",
            "|R1JUJLXQ2CMWKF|          4|           25|         26|   Y|                N|0.9615384615384616|\n",
            "|R2T7YE0IFI6N9L|          3|           24|         25|   Y|                N|              0.96|\n",
            "|R25FI3J7WWOYXM|          3|           55|         58|   Y|                N|0.9482758620689655|\n",
            "|R3P3U4EOWIUD50|          3|           27|         36|   Y|                N|              0.75|\n",
            "|R3C7MKX7MO6XUC|          5|          216|        219|   Y|                N|0.9863013698630136|\n",
            "|R1DFDDK1ZWKN3D|          2|           61|         65|   Y|                N|0.9384615384615385|\n",
            "|R38G7BRBA2LGGV|          3|           47|         54|   Y|                N|0.8703703703703703|\n",
            "|R2XQXWNEBSB9WO|          4|           52|         56|   Y|                N|0.9285714285714286|\n",
            "|R1UFK241B2KN48|          4|          375|        378|   Y|                N|0.9920634920634921|\n",
            "|R3H9CGK58BVHI5|          4|           42|         46|   Y|                N|0.9130434782608695|\n",
            "|R3NSXBUR3O1CE8|          5|           21|         22|   Y|                N|0.9545454545454546|\n",
            "|R13JI50KH7BTBU|          4|           29|         30|   Y|                N|0.9666666666666667|\n",
            "|R2LWQUQ6KB5ZN5|          4|           29|         36|   Y|                Y|0.8055555555555556|\n",
            "|R1JORBU2J7HG3H|          5|           22|         25|   Y|                N|              0.88|\n",
            "|R3F6KXGIFXQ3B6|          4|           40|         43|   Y|                N|0.9302325581395349|\n",
            "|R3ANHBYBW9IPWD|          4|           35|         39|   Y|                N|0.8974358974358975|\n",
            "+--------------+-----------+-------------+-----------+----+-----------------+------------------+\n",
            "only showing top 20 rows\n",
            "\n"
          ]
        }
      ]
    },
    {
      "cell_type": "code",
      "source": [
        "vine_not_paid = helpful_votes_df.filter(col(\"vine\") == \"N\")\n",
        "vine_not_paid.show()"
      ],
      "metadata": {
        "colab": {
          "base_uri": "https://localhost:8080/"
        },
        "id": "EioP3ogsyEvF",
        "outputId": "b183fc49-cb98-41de-fc68-8ea0f43e95ff"
      },
      "execution_count": 14,
      "outputs": [
        {
          "output_type": "stream",
          "name": "stdout",
          "text": [
            "+--------------+-----------+-------------+-----------+----+-----------------+------------------+\n",
            "|     review_id|star_rating|helpful_votes|total_votes|vine|verified_purchase|   vote_usefulness|\n",
            "+--------------+-----------+-------------+-----------+----+-----------------+------------------+\n",
            "|R21KC552Y6HL8X|          1|           27|         31|   N|                Y|0.8709677419354839|\n",
            "| RX9WC9FTIR1XR|          5|           25|         25|   N|                Y|               1.0|\n",
            "| RGDCOU1KBHMNG|          3|           29|         31|   N|                Y|0.9354838709677419|\n",
            "| RVTYWID2TPMMY|          2|           35|         42|   N|                Y|0.8333333333333334|\n",
            "|R2CMPZ5VESGRLY|          4|           27|         28|   N|                Y|0.9642857142857143|\n",
            "|R3VQPJZ54B55BA|          5|           62|         64|   N|                N|           0.96875|\n",
            "|R24QM6D7FEDZ5M|          2|           36|         43|   N|                Y|0.8372093023255814|\n",
            "|  R39GSNW76GYF|          1|           20|         23|   N|                Y|0.8695652173913043|\n",
            "| RPJLR6MFDPXXE|          5|           35|         36|   N|                Y|0.9722222222222222|\n",
            "|R34X0ZGVB3YGYO|          5|           47|         47|   N|                Y|               1.0|\n",
            "|R2C9O1BOV14Q0Z|          1|           62|         79|   N|                Y|0.7848101265822784|\n",
            "| RM6ZH5J3XDNHK|          5|           79|         87|   N|                Y|0.9080459770114943|\n",
            "|R2E363K75EMW4K|          5|           66|         69|   N|                Y|0.9565217391304348|\n",
            "|R2VJII8VKSJHDF|          1|           24|         29|   N|                N|0.8275862068965517|\n",
            "|R2U35Y2P27M13E|          1|           43|         45|   N|                Y|0.9555555555555556|\n",
            "| RLMZOQL11VHBX|          5|           23|         24|   N|                Y|0.9583333333333334|\n",
            "|R3C6CQQRRA8SYP|          5|           52|         58|   N|                Y| 0.896551724137931|\n",
            "|R3T7YOX0AEDZL3|          1|           45|         47|   N|                N|0.9574468085106383|\n",
            "|R176V3AYS3R4HG|          5|           26|         27|   N|                N|0.9629629629629629|\n",
            "|R1E5UU8JBUSHU2|          5|           29|         29|   N|                Y|               1.0|\n",
            "+--------------+-----------+-------------+-----------+----+-----------------+------------------+\n",
            "only showing top 20 rows\n",
            "\n"
          ]
        }
      ]
    },
    {
      "cell_type": "code",
      "source": [
        "# Determine the total number of reviews, the number of 5-star reviews, and the \n",
        "# percentage of 5-star reviews for the two types of review (paid).\n",
        "\n",
        "print(f\"Reviews that were part of the Vine program:\")\n",
        "total_reviews_paid = vine_paid.count()\n",
        "print(f\"Total number of reviews: {total_reviews_paid}\")\n",
        "\n",
        "total_five_stars_paid = vine_paid.filter(\"star_rating == 5\").count()\n",
        "print(f\"Total number of 5 star reviews: {total_five_stars_paid}\")\n",
        "\n",
        "review_percentage = (total_five_stars_paid/total_reviews_paid)*100\n",
        "print(f\"Percent of 5-star reviews:{review_percentage}%\")\n"
      ],
      "metadata": {
        "colab": {
          "base_uri": "https://localhost:8080/"
        },
        "id": "uD01WTeryT3w",
        "outputId": "e2464f85-8a13-4605-8e31-3000677a421a"
      },
      "execution_count": 20,
      "outputs": [
        {
          "output_type": "stream",
          "name": "stdout",
          "text": [
            "Reviews that were part of the Vine program:\n",
            "Total number of reviews: 162\n",
            "Total number of 5 star reviews: 63\n",
            "Percent of 5-star reviews:38.88888888888889%\n"
          ]
        }
      ]
    },
    {
      "cell_type": "code",
      "source": [
        "# Determine the total number of reviews, the number of 5-star reviews, and the \n",
        "# percentage of 5-star reviews for the two types of review (unpaid).\n",
        "\n",
        "print(f\"Reviews that were not part of the Vine program:\")\n",
        "total_reviews_not_paid = vine_not_paid.count()\n",
        "print(f\"Total number of reviews: {total_reviews_not_paid}\")\n",
        "\n",
        "total_five_stars_not_paid = vine_not_paid.filter(\"star_rating == 5\").count()\n",
        "print(f\"Total number of 5 star reviews: {total_five_stars_not_paid}\")\n",
        "\n",
        "review_percentage_not_paid = (total_five_stars_not_paid/total_reviews_not_paid)*100\n",
        "print(f\"Percent of 5-star reviews:{review_percentage_not_paid}%\")"
      ],
      "metadata": {
        "colab": {
          "base_uri": "https://localhost:8080/"
        },
        "id": "tFRSPDrm1V5a",
        "outputId": "503481ed-73c1-433f-d658-a9344646ff8a"
      },
      "execution_count": 22,
      "outputs": [
        {
          "output_type": "stream",
          "name": "stdout",
          "text": [
            "Reviews that were not part of the Vine program:\n",
            "Total number of reviews: 35606\n",
            "Total number of 5 star reviews: 19444\n",
            "Percent of 5-star reviews:54.60877380216817%\n"
          ]
        }
      ]
    },
    {
      "cell_type": "code",
      "source": [
        "# Determine the total number of reviews, the number of 5-star reviews\n",
        "\n",
        "total_reviews = helpful_votes_df.count()\n",
        "print(f\"Total number of reviews: {total_reviews}\")\n",
        "\n",
        "total_five_stars = helpful_votes_df.filter(\"star_rating == 5\").count()\n",
        "print(f\"Total number of 5 star reviews: {total_five_stars}\")\n",
        "\n",
        "#review_percentage = (total_five_stars_paid/total_reviews_paid)*100\n",
        "#print(f\"Percent of 5-star reviews:{review_percentage}%\")"
      ],
      "metadata": {
        "colab": {
          "base_uri": "https://localhost:8080/"
        },
        "id": "qav9krCKyZmF",
        "outputId": "88692497-ee28-4e8e-98c3-3e39d69ee101"
      },
      "execution_count": 21,
      "outputs": [
        {
          "output_type": "stream",
          "name": "stdout",
          "text": [
            "Total number of reviews: 35768\n",
            "Total number of 5 star reviews: 19507\n"
          ]
        }
      ]
    }
  ]
}